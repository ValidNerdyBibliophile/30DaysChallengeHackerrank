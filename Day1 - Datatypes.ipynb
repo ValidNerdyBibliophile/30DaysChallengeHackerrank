{
 "cells": [
  {
   "cell_type": "markdown",
   "id": "ed63c3e7",
   "metadata": {},
   "source": [
    "**Input**\n",
    "12\n",
    "4.0\n",
    "is the best place to learn and practice coding!\n",
    "\n",
    "**Output**\n",
    "16\n",
    "8.0\n",
    "HackerRank is the best place to learn and practice coding!\n",
    "\n",
    "**Explaination**\n",
    "When we sum the integers  and , we get the integer .\n",
    "When we sum the floating-point numbers  and , we get .\n",
    "When we concatenate HackerRank with is the best place to learn and practice coding!, we get HackerRank is the best place to learn and practice coding!\n"
   ]
  },
  {
   "cell_type": "code",
   "execution_count": 4,
   "id": "36907e7d",
   "metadata": {},
   "outputs": [
    {
     "name": "stdout",
     "output_type": "stream",
     "text": [
      "4\n",
      "3.0\n",
      "Sucks\n",
      "8\n",
      "7.0\n",
      "HackerRank Sucks\n"
     ]
    }
   ],
   "source": [
    "i = 4\n",
    "d = 4.0\n",
    "s = 'HackerRank '\n",
    "\n",
    "# Declare second integer, double, and String variables.\n",
    "# Read and save an integer, double, and String to your variable.\n",
    "\n",
    "j = int(input())\n",
    "e = float(input())\n",
    "s1 = str(input())\n",
    "\n",
    "# Print the sum of both integer variables on a new line.\n",
    "\n",
    "print(i + j)\n",
    "\n",
    "# Print the sum of the double variables on a new line.\n",
    "print(d + e) \n",
    "\n",
    "# Concatenate and print the String variables on a new line\n",
    "# The 's' variable above should be printed first.\n",
    "print(s + s1)"
   ]
  },
  {
   "cell_type": "code",
   "execution_count": null,
   "id": "d13b23d4",
   "metadata": {},
   "outputs": [],
   "source": []
  }
 ],
 "metadata": {
  "kernelspec": {
   "display_name": "Python 3",
   "language": "python",
   "name": "python3"
  },
  "language_info": {
   "codemirror_mode": {
    "name": "ipython",
    "version": 3
   },
   "file_extension": ".py",
   "mimetype": "text/x-python",
   "name": "python",
   "nbconvert_exporter": "python",
   "pygments_lexer": "ipython3",
   "version": "3.8.8"
  }
 },
 "nbformat": 4,
 "nbformat_minor": 5
}
